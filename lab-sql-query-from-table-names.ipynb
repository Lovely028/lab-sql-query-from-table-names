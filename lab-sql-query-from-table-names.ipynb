{
 "cells": [
  {
   "cell_type": "markdown",
   "id": "00a57394-53dd-47cd-a5e7-6e7122bbb0f6",
   "metadata": {},
   "source": [
    "# SQL query from table names"
   ]
  },
  {
   "cell_type": "markdown",
   "id": "86bc2813-763c-49f2-9f5d-e1f87a20556f",
   "metadata": {
    "id": "86bc2813-763c-49f2-9f5d-e1f87a20556f"
   },
   "source": [
    "In This notebook we are going to test if using just the name of the table, and a shord definition of its contect we can use a model like GTP3.5-Turbo to select which tables are necessary to create a SQL Order to answer the user petition."
   ]
  },
  {
   "cell_type": "code",
   "execution_count": 1,
   "id": "3722c673",
   "metadata": {},
   "outputs": [
    {
     "name": "stdout",
     "output_type": "stream",
     "text": [
      "Requirement already satisfied: python-dotenv in c:\\users\\lovely\\anaconda3\\lib\\site-packages (1.1.0)\n",
      "Note: you may need to restart the kernel to use updated packages.\n"
     ]
    }
   ],
   "source": [
    "pip install python-dotenv\n"
   ]
  },
  {
   "cell_type": "code",
   "execution_count": 2,
   "id": "b736c42d",
   "metadata": {},
   "outputs": [],
   "source": [
    "from dotenv import load_dotenv\n",
    "import os\n",
    "import openai\n",
    "\n",
    "load_dotenv()  # Load .env\n",
    "openai.api_key = os.getenv(\"OPENAI_API_KEY\")\n",
    "\n",
    "if openai.api_key is None:\n",
    "    raise ValueError(\"OPENAI_API_KEY not found! Check your .env file.\")\n"
   ]
  },
  {
   "cell_type": "code",
   "execution_count": 3,
   "id": "e480bbfb-9a80-4ea6-b792-067e63ae3148",
   "metadata": {
    "id": "e480bbfb-9a80-4ea6-b792-067e63ae3148"
   },
   "outputs": [],
   "source": [
    "#Function to call the model.\n",
    "def return_OAI(user_message):\n",
    "    client = OpenAI(\n",
    "    # This is the default and can be omitted\n",
    "    api_key=OPENAI_API_KEY,\n",
    ")\n",
    "    context = []\n",
    "    context.append({'role':'system', \"content\": user_message})\n",
    "\n",
    "    response = client.chat.completions.create(\n",
    "            model=\"gpt-3.5-turbo\",\n",
    "            messages=context,\n",
    "            temperature=0,\n",
    "        )\n",
    "\n",
    "    return (response.choices[0].message.content)"
   ]
  },
  {
   "cell_type": "code",
   "execution_count": 4,
   "id": "6d5d2bdc-d822-4ed8-815e-b3f223730f15",
   "metadata": {
    "id": "6d5d2bdc-d822-4ed8-815e-b3f223730f15",
    "outputId": "61068bf0-41e3-40d9-b453-b76da5b0f086"
   },
   "outputs": [
    {
     "name": "stdout",
     "output_type": "stream",
     "text": [
      "       table                                         definition\n",
      "0  customers  Contains customer information such as name, em...\n",
      "1     orders  Stores order details including order date, cus...\n",
      "2   products  List of products with product name, descriptio...\n"
     ]
    }
   ],
   "source": [
    "#Definition of the tables.\n",
    "import pandas as pd\n",
    "\n",
    "# Table and definitions sample\n",
    "data = {\n",
    "    'table': ['customers', 'orders', 'products'],\n",
    "    'definition': [\n",
    "        'Contains customer information such as name, email, and address.',\n",
    "        'Stores order details including order date, customer_id, and total amount.',\n",
    "        'List of products with product name, description, and price.'\n",
    "    ]\n",
    "}\n",
    "df = pd.DataFrame(data)\n",
    "print(df)"
   ]
  },
  {
   "cell_type": "code",
   "execution_count": 5,
   "id": "009e681c-d95d-4c9c-b044-5bfd76e3ad95",
   "metadata": {
    "id": "009e681c-d95d-4c9c-b044-5bfd76e3ad95"
   },
   "outputs": [],
   "source": [
    "text_tables = '\\n'.join([f\"{row['table']}: {row['definition']}\" for index, row in df.iterrows()])"
   ]
  },
  {
   "cell_type": "code",
   "execution_count": 6,
   "id": "fe03ac25-8d02-4cd1-99a1-be4220c6fd2d",
   "metadata": {
    "id": "fe03ac25-8d02-4cd1-99a1-be4220c6fd2d",
    "outputId": "c1f3aab1-5f26-48fe-fcf9-3780120f5aad"
   },
   "outputs": [
    {
     "name": "stdout",
     "output_type": "stream",
     "text": [
      "customers: Contains customer information such as name, email, and address.\n",
      "orders: Stores order details including order date, customer_id, and total amount.\n",
      "products: List of products with product name, description, and price.\n"
     ]
    }
   ],
   "source": [
    "print(text_tables)"
   ]
  },
  {
   "cell_type": "code",
   "execution_count": 7,
   "id": "c7e275ae-f20d-4134-b9b6-d8677dfb544c",
   "metadata": {
    "id": "c7e275ae-f20d-4134-b9b6-d8677dfb544c"
   },
   "outputs": [],
   "source": [
    "prompt_question_tables = \"\"\"\n",
    "Given the following tables and their content definitions,\n",
    "###Tables\n",
    "{tables}\n",
    "\n",
    "Tell me which tables would be necessary to query with SQL to address the user's question below.\n",
    "Return the table names in a json format.\n",
    "###User Questyion:\n",
    "{question}\n",
    "\"\"\"\n"
   ]
  },
  {
   "cell_type": "code",
   "execution_count": 8,
   "id": "b1cb5957-2df2-4e5e-9e6a-ace955c9817e",
   "metadata": {
    "id": "b1cb5957-2df2-4e5e-9e6a-ace955c9817e"
   },
   "outputs": [],
   "source": [
    "#Creating the prompt, with the user questions and the tables definitions.\n",
    "pqt1 = prompt_question_tables.format(\n",
    "    tables=text_tables,\n",
    "    question=\"Which customers have placed orders for products over $100?\"\n",
    ")"
   ]
  },
  {
   "cell_type": "code",
   "execution_count": 9,
   "id": "10d30f2b-6c23-4fd6-8038-840fba784cce",
   "metadata": {
    "id": "10d30f2b-6c23-4fd6-8038-840fba784cce",
    "outputId": "9924022c-7b2b-4ec8-e2c2-75bc1c745151",
    "scrolled": true
   },
   "outputs": [
    {
     "ename": "NameError",
     "evalue": "name 'OpenAI' is not defined",
     "output_type": "error",
     "traceback": [
      "\u001b[1;31m---------------------------------------------------------------------------\u001b[0m",
      "\u001b[1;31mNameError\u001b[0m                                 Traceback (most recent call last)",
      "Cell \u001b[1;32mIn[9], line 1\u001b[0m\n\u001b[1;32m----> 1\u001b[0m \u001b[38;5;28mprint\u001b[39m(return_OAI(pqt1))\n",
      "Cell \u001b[1;32mIn[3], line 3\u001b[0m, in \u001b[0;36mreturn_OAI\u001b[1;34m(user_message)\u001b[0m\n\u001b[0;32m      2\u001b[0m \u001b[38;5;28;01mdef\u001b[39;00m\u001b[38;5;250m \u001b[39m\u001b[38;5;21mreturn_OAI\u001b[39m(user_message):\n\u001b[1;32m----> 3\u001b[0m     client \u001b[38;5;241m=\u001b[39m OpenAI(\n\u001b[0;32m      4\u001b[0m     \u001b[38;5;66;03m# This is the default and can be omitted\u001b[39;00m\n\u001b[0;32m      5\u001b[0m     api_key\u001b[38;5;241m=\u001b[39mOPENAI_API_KEY,\n\u001b[0;32m      6\u001b[0m )\n\u001b[0;32m      7\u001b[0m     context \u001b[38;5;241m=\u001b[39m []\n\u001b[0;32m      8\u001b[0m     context\u001b[38;5;241m.\u001b[39mappend({\u001b[38;5;124m'\u001b[39m\u001b[38;5;124mrole\u001b[39m\u001b[38;5;124m'\u001b[39m:\u001b[38;5;124m'\u001b[39m\u001b[38;5;124msystem\u001b[39m\u001b[38;5;124m'\u001b[39m, \u001b[38;5;124m\"\u001b[39m\u001b[38;5;124mcontent\u001b[39m\u001b[38;5;124m\"\u001b[39m: user_message})\n",
      "\u001b[1;31mNameError\u001b[0m: name 'OpenAI' is not defined"
     ]
    }
   ],
   "source": [
    "print(return_OAI(pqt1))"
   ]
  },
  {
   "cell_type": "code",
   "execution_count": null,
   "id": "57e07083-be8f-4cd0-95bd-c4b909422c6b",
   "metadata": {
    "id": "57e07083-be8f-4cd0-95bd-c4b909422c6b"
   },
   "outputs": [],
   "source": [
    "pqt3 = prompt_question_tables.format(\n",
    "    tables=text_tables,\n",
    "    question=\"List all products that have never been ordered.\"\n",
    ")"
   ]
  },
  {
   "cell_type": "code",
   "execution_count": null,
   "id": "a0eeb79e-caf1-4f48-9897-168d95d2ae37",
   "metadata": {
    "id": "a0eeb79e-caf1-4f48-9897-168d95d2ae37",
    "outputId": "81d77115-9cad-4284-a228-5368bb9aa6fb"
   },
   "outputs": [
    {
     "name": "stdout",
     "output_type": "stream",
     "text": [
      "```json\n",
      "{\n",
      "    \"tables\": [\"products\", \"orders\"]\n",
      "}\n",
      "```\n"
     ]
    }
   ],
   "source": [
    "print(return_OAI(pqt3))"
   ]
  },
  {
   "cell_type": "markdown",
   "id": "321bb9a2-4937-4e9a-a31b-7049cb8f5aa3",
   "metadata": {
    "id": "321bb9a2-4937-4e9a-a31b-7049cb8f5aa3"
   },
   "source": [
    "# Exercise\n",
    " - Complete the prompts similar to what we did in class. \n",
    "     - Try a few versions if you have time\n",
    "     - Be creative\n",
    " - Write a one page report summarizing your findings.\n",
    "     - Were there variations that didn't work well? i.e., where GPT either hallucinated or wrong\n",
    " - What did you learn?"
   ]
  },
  {
   "cell_type": "code",
   "execution_count": null,
   "id": "e6e7bbf3",
   "metadata": {},
   "outputs": [
    {
     "name": "stdout",
     "output_type": "stream",
     "text": [
      "                                            question  \\\n",
      "0  List all orders with customer names for last m...   \n",
      "1  List all orders with customer names for last m...   \n",
      "2                   Which products are out of stock?   \n",
      "3                   Which products are out of stock?   \n",
      "4                  Show the total sales per employee   \n",
      "5                  Show the total sales per employee   \n",
      "6             Get the shipment dates for order #1234   \n",
      "7             Get the shipment dates for order #1234   \n",
      "\n",
      "            prompt_strategy          model  \\\n",
      "0               tables_only  gpt-3.5-turbo   \n",
      "1  tables_with_descriptions  gpt-3.5-turbo   \n",
      "2               tables_only  gpt-3.5-turbo   \n",
      "3  tables_with_descriptions  gpt-3.5-turbo   \n",
      "4               tables_only  gpt-3.5-turbo   \n",
      "5  tables_with_descriptions  gpt-3.5-turbo   \n",
      "6               tables_only  gpt-3.5-turbo   \n",
      "7  tables_with_descriptions  gpt-3.5-turbo   \n",
      "\n",
      "                                     selected_tables comment  \n",
      "0  Error: \\n\\nYou tried to access openai.ChatComp...  Failed  \n",
      "1  Error: \\n\\nYou tried to access openai.ChatComp...  Failed  \n",
      "2  Error: \\n\\nYou tried to access openai.ChatComp...  Failed  \n",
      "3  Error: \\n\\nYou tried to access openai.ChatComp...  Failed  \n",
      "4  Error: \\n\\nYou tried to access openai.ChatComp...  Failed  \n",
      "5  Error: \\n\\nYou tried to access openai.ChatComp...  Failed  \n",
      "6  Error: \\n\\nYou tried to access openai.ChatComp...  Failed  \n",
      "7  Error: \\n\\nYou tried to access openai.ChatComp...  Failed  \n",
      "\n",
      "CSV report saved at: C:\\Users\\Lovely\\Desktop\\clean_code_experiment\\gpt_table_selection_report_20250821_143441.csv\n"
     ]
    }
   ],
   "source": [
    "# -----------------------------\n",
    "# 1. Install required packages (if needed)\n",
    "# -----------------------------\n",
    "#pip install openai pandas python-dotenv\n",
    "\n",
    "# -----------------------------\n",
    "# 2. Load API key from .env\n",
    "# -----------------------------\n",
    "from dotenv import load_dotenv\n",
    "import os\n",
    "import openai\n",
    "import pandas as pd\n",
    "from datetime import datetime\n",
    "\n",
    "# Load environment variables from .env\n",
    "load_dotenv()\n",
    "openai.api_key = os.getenv(\"OPENAI_API_KEY\")\n",
    "\n",
    "if openai.api_key is None:\n",
    "    raise ValueError(\"OPENAI_API_KEY not found. Make sure it's set in .env file.\")\n",
    "\n",
    "# -----------------------------\n",
    "# 3. Sample tables and definitions\n",
    "# -----------------------------\n",
    "tables_info = {\n",
    "    \"customers\": \"Contains customer information such as name, email, and address\",\n",
    "    \"orders\": \"Stores order details including order date, customer_id, and total amount\",\n",
    "    \"products\": \"List of products with product name, description, and price\",\n",
    "    \"employees\": \"Contains employee info including name, role, department\",\n",
    "    \"shipments\": \"Contains shipment details with order_id, date_shipped, carrier\"\n",
    "}\n",
    "\n",
    "user_questions = [\n",
    "    \"List all orders with customer names for last month\",\n",
    "    \"Which products are out of stock?\",\n",
    "    \"Show the total sales per employee\",\n",
    "    \"Get the shipment dates for order #1234\"\n",
    "]\n",
    "\n",
    "# -----------------------------\n",
    "# 4. Function to query GPT\n",
    "# -----------------------------\n",
    "def query_gpt(prompt):\n",
    "    try:\n",
    "        response = openai.ChatCompletion.create(\n",
    "            model=\"gpt-3.5-turbo\",\n",
    "            messages=[{\"role\":\"user\",\"content\":prompt}],\n",
    "            temperature=0\n",
    "        )\n",
    "        return response.choices[0].message['content'].strip()\n",
    "    except Exception as e:\n",
    "        return f\"Error: {str(e)}\"\n",
    "\n",
    "# -----------------------------\n",
    "# 5. Experiment: prompt strategies\n",
    "# -----------------------------\n",
    "results = []\n",
    "\n",
    "for question in user_questions:\n",
    "    # Strategy 1: tables only\n",
    "    prompt1 = f\"\"\"You are a SQL assistant.\n",
    "    User question: \"{question}\"\n",
    "    Given the following tables: {list(tables_info.keys())}\n",
    "    Select which tables are necessary to answer the question and explain briefly.\"\"\"\n",
    "    \n",
    "    # Strategy 2: tables + descriptions\n",
    "    prompt2 = f\"\"\"You are a SQL assistant.\n",
    "    User question: \"{question}\"\n",
    "    Here are tables with short descriptions: {tables_info}\n",
    "    Select which tables are necessary to answer the question and explain briefly.\"\"\"\n",
    "    \n",
    "    # Query GPT\n",
    "    res1 = query_gpt(prompt1)\n",
    "    res2 = query_gpt(prompt2)\n",
    "    \n",
    "    # Append results\n",
    "    results.append({\n",
    "        \"question\": question,\n",
    "        \"prompt_strategy\": \"tables_only\",\n",
    "        \"model\": \"gpt-3.5-turbo\",\n",
    "        \"selected_tables\": res1,\n",
    "        \"comment\": \"\" if \"Error\" not in res1 else \"Failed\"\n",
    "    })\n",
    "    \n",
    "    results.append({\n",
    "        \"question\": question,\n",
    "        \"prompt_strategy\": \"tables_with_descriptions\",\n",
    "        \"model\": \"gpt-3.5-turbo\",\n",
    "        \"selected_tables\": res2,\n",
    "        \"comment\": \"\" if \"Error\" not in res2 else \"Failed\"\n",
    "    })\n",
    "\n",
    "# -----------------------------\n",
    "# 6. Convert results to DataFrame\n",
    "# -----------------------------\n",
    "df = pd.DataFrame(results)\n",
    "\n",
    "# -----------------------------\n",
    "# 7. Print results\n",
    "# -----------------------------\n",
    "print(df)\n",
    "\n",
    "# -----------------------------\n",
    "# 8. Save CSV report\n",
    "# -----------------------------\n",
    "folder_path = r\"C:\\Users\\Lovely\\Desktop\\clean_code_experiment\"\n",
    "os.makedirs(folder_path, exist_ok=True)\n",
    "timestamp = datetime.now().strftime(\"%Y%m%d_%H%M%S\")\n",
    "file_path = os.path.join(folder_path, f\"gpt_table_selection_report_{timestamp}.csv\")\n",
    "df.to_csv(file_path, index=False)\n",
    "print(f\"\\nCSV report saved at: {file_path}\")\n"
   ]
  }
 ],
 "metadata": {
  "colab": {
   "include_colab_link": true,
   "provenance": []
  },
  "kernelspec": {
   "display_name": "base",
   "language": "python",
   "name": "python3"
  },
  "language_info": {
   "codemirror_mode": {
    "name": "ipython",
    "version": 3
   },
   "file_extension": ".py",
   "mimetype": "text/x-python",
   "name": "python",
   "nbconvert_exporter": "python",
   "pygments_lexer": "ipython3",
   "version": "3.13.5"
  }
 },
 "nbformat": 4,
 "nbformat_minor": 5
}
